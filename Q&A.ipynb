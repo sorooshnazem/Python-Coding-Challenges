{
 "cells": [
  {
   "cell_type": "markdown",
   "id": "42d3ba33",
   "metadata": {},
   "source": [
    "### 1. Nearest Smaller Value"
   ]
  },
  {
   "cell_type": "code",
   "execution_count": 1,
   "id": "8d293635",
   "metadata": {},
   "outputs": [],
   "source": [
    "## input->[1,2,5,-2,-4,2,4], output->[-1,1,1,-1,-1,-4,2]\n",
    "## input->[1,2,3,4,5,6,7,8,9]\n",
    "def nearestSmallerValue(arr):\n",
    "    l=['-1']\n",
    "    for i in range(1,len(arr)):\n",
    "        if arr[i]<min(arr[0:i]):\n",
    "            l.append('-1')\n",
    "        else:\n",
    "            for j in range(i,-1,-1):\n",
    "                if arr[i]>arr[j]:\n",
    "                    l.append(str(arr[j]))\n",
    "                    break\n",
    "    return (\",\").join(l) "
   ]
  },
  {
   "cell_type": "code",
   "execution_count": 2,
   "id": "df1b9130",
   "metadata": {},
   "outputs": [
    {
     "name": "stdout",
     "output_type": "stream",
     "text": [
      "-1,1,2,3,4,5,6,7,8\n"
     ]
    }
   ],
   "source": [
    "l=[1,2,3,4,5,6,7,8,9]\n",
    "print(nearestSmallerValue(l))"
   ]
  },
  {
   "cell_type": "markdown",
   "id": "6cf25bdc",
   "metadata": {},
   "source": [
    "### 2. Get a String, whenever there is one of these symbols (,|;|.|?), go to new line\n",
    "#### Example\n",
    "Input: Hi, This is John; How are you? Nice to meet you.\\\n",
    "Output: Hi,\\\n",
    "        &emsp;&emsp;&emsp;&ensp;This is John;\\\n",
    "        &emsp;&emsp;&emsp;&ensp;How are you?\\\n",
    "        &emsp;&emsp;&emsp;&ensp;Nice to meet you."
   ]
  },
  {
   "cell_type": "code",
   "execution_count": 47,
   "id": "27c54f8e",
   "metadata": {},
   "outputs": [],
   "source": [
    "#function\n",
    "def lineBreak(strr):\n",
    "    chars=[',',';','.','?']\n",
    "    for i in chars:\n",
    "        strr = strr.replace(i, i+'\\n')\n",
    "    return strr"
   ]
  },
  {
   "cell_type": "code",
   "execution_count": 48,
   "id": "6dd5130d",
   "metadata": {},
   "outputs": [
    {
     "name": "stdout",
     "output_type": "stream",
     "text": [
      "Hi,\n",
      " This is John;\n",
      " How are you?\n",
      " Nice to meet you.\n",
      "\n"
     ]
    }
   ],
   "source": [
    "#test\n",
    "strr='Hi, This is John; How are you? Nice to meet you.'\n",
    "print(lineBreak(strr))"
   ]
  },
  {
   "cell_type": "markdown",
   "id": "bdc18f3c",
   "metadata": {},
   "source": [
    "### 3. Write a Python program to count the number of strings from a given list of strings. The string length is 2 or more and the first and last characters are the same.\n",
    "\n",
    "Sample List : ['abc', 'xyz', 'aba', '1221'] \\\n",
    "Expected Result : 2"
   ]
  },
  {
   "cell_type": "code",
   "execution_count": 5,
   "id": "b1c8afd1",
   "metadata": {},
   "outputs": [],
   "source": [
    "def nm_strings_first_last_char_equal_list(arr):\n",
    "    nm=0\n",
    "    for entry in arr:\n",
    "        if len(entry)>1 and entry[0]==entry[-1]:\n",
    "            nm+=1\n",
    "    return nm"
   ]
  },
  {
   "cell_type": "code",
   "execution_count": 6,
   "id": "f0c1e414",
   "metadata": {},
   "outputs": [
    {
     "data": {
      "text/plain": [
       "1"
      ]
     },
     "execution_count": 6,
     "metadata": {},
     "output_type": "execute_result"
    }
   ],
   "source": [
    "nm_strings_first_last_char_equal_list(['abc', 'xyz', 'abb', '1221'])"
   ]
  },
  {
   "cell_type": "markdown",
   "id": "aba2fe2b",
   "metadata": {},
   "source": [
    "### 4. Write a Python program to find the index of an item in a specified list.\n"
   ]
  },
  {
   "cell_type": "code",
   "execution_count": 2,
   "id": "c31eb97b",
   "metadata": {},
   "outputs": [
    {
     "name": "stdout",
     "output_type": "stream",
     "text": [
      "-1\n",
      "3\n"
     ]
    }
   ],
   "source": [
    "def index_in_list(entry,arr):\n",
    "    if entry in arr:\n",
    "        return arr.index(entry)\n",
    "    else:\n",
    "        return -1\n",
    "    \n",
    "print(index_in_list(7,[1,2,3,4]))\n",
    "print(index_in_list('f',[1,2,3,'f',4]))"
   ]
  },
  {
   "cell_type": "markdown",
   "id": "48c8aa55",
   "metadata": {},
   "source": [
    "### 5. We have two lists where one contains first names and the other surnames. Write a code that takes these two lists and gives a single list with complete names"
   ]
  },
  {
   "cell_type": "code",
   "execution_count": 15,
   "id": "d88e875c",
   "metadata": {},
   "outputs": [
    {
     "name": "stdout",
     "output_type": "stream",
     "text": [
      "['Soroosh Nazem', 'Samira Hadidi']\n"
     ]
    }
   ],
   "source": [
    "firstNames=['Soroosh','Samira']\n",
    "surNames=['Nazem','Hadidi']\n",
    "names=[i+' '+j for i,j in zip(firstNames,surNames)]\n",
    "print(names)"
   ]
  },
  {
   "cell_type": "code",
   "execution_count": 23,
   "id": "030e4497",
   "metadata": {},
   "outputs": [
    {
     "name": "stdout",
     "output_type": "stream",
     "text": [
      "['s', 'r', 'r']\n"
     ]
    }
   ],
   "source": [
    "l=['s','r','','r']\n",
    "\n",
    "print([i for i in l if i!=''])"
   ]
  },
  {
   "cell_type": "code",
   "execution_count": 24,
   "id": "aa4294d5",
   "metadata": {},
   "outputs": [
    {
     "data": {
      "text/plain": [
       "['s', 'r', 'r']"
      ]
     },
     "execution_count": 24,
     "metadata": {},
     "output_type": "execute_result"
    }
   ],
   "source": [
    "list(filter(lambda x: x!='',l))"
   ]
  },
  {
   "cell_type": "markdown",
   "id": "faaf0afd",
   "metadata": {},
   "source": [
    "## some questions related to regex"
   ]
  },
  {
   "cell_type": "code",
   "execution_count": 2,
   "id": "26308715",
   "metadata": {},
   "outputs": [],
   "source": [
    "import re"
   ]
  },
  {
   "cell_type": "markdown",
   "id": "8f352fd2",
   "metadata": {},
   "source": [
    "**^:** starts with\\\n",
    "**\\$:** ends with"
   ]
  },
  {
   "cell_type": "code",
   "execution_count": 11,
   "id": "cb77e2b0",
   "metadata": {},
   "outputs": [
    {
     "name": "stdout",
     "output_type": "stream",
     "text": [
      "1d4ds\n",
      "2dge\n"
     ]
    }
   ],
   "source": [
    "# given a list, search for strings that start with letter c\n",
    "arr=['hi','How are you?','John', 'Combination','cat','dog','c','bicycle','1d4ds','2dge']\n",
    "regex='^[cC]\\w*'\n",
    "\n",
    "r='^[0-9]'\n",
    "for element in arr:\n",
    "    if re.search(r,element):\n",
    "        print(element)"
   ]
  },
  {
   "cell_type": "code",
   "execution_count": 31,
   "id": "c3a2e0d6",
   "metadata": {},
   "outputs": [
    {
     "data": {
      "text/plain": [
       "(1, 2, '2', 3, 1)"
      ]
     },
     "execution_count": 31,
     "metadata": {},
     "output_type": "execute_result"
    }
   ],
   "source": [
    "(1,2,'2',3,1)"
   ]
  },
  {
   "cell_type": "code",
   "execution_count": 43,
   "id": "c18eeda2",
   "metadata": {},
   "outputs": [
    {
     "name": "stdout",
     "output_type": "stream",
     "text": [
      "True\n"
     ]
    }
   ],
   "source": [
    "strg='Ciao'\n",
    "l=[]\n",
    "for c in strg.upper():\n",
    "    l.append(c)\n",
    "if len(l)==len(set(l)):\n",
    "    print('')"
   ]
  },
  {
   "cell_type": "code",
   "execution_count": 5,
   "id": "934d1981",
   "metadata": {},
   "outputs": [
    {
     "name": "stdout",
     "output_type": "stream",
     "text": [
      "3\n"
     ]
    }
   ],
   "source": [
    "l='1a9dfg5'\n",
    "counter=0\n",
    "for c in l:\n",
    "    try:\n",
    "        int_value = int(c)\n",
    "        counter+=1\n",
    "    except (TypeError, ValueError):\n",
    "        pass\n",
    "print(counter)"
   ]
  },
  {
   "cell_type": "code",
   "execution_count": 1,
   "id": "b91b283b",
   "metadata": {},
   "outputs": [
    {
     "name": "stdout",
     "output_type": "stream",
     "text": [
      "[1, 2, 3, 4, 5, 6]\n"
     ]
    },
    {
     "ename": "NameError",
     "evalue": "name 'num1' is not defined",
     "output_type": "error",
     "traceback": [
      "\u001b[1;31m---------------------------------------------------------------------------\u001b[0m",
      "\u001b[1;31mNameError\u001b[0m                                 Traceback (most recent call last)",
      "Cell \u001b[1;32mIn [1], line 14\u001b[0m\n\u001b[0;32m     11\u001b[0m             \u001b[38;5;28;01mreturn\u001b[39;00m num[(\u001b[38;5;28mlen\u001b[39m(num)\u001b[38;5;241m-\u001b[39m\u001b[38;5;241m1\u001b[39m)\u001b[38;5;241m/\u001b[39m\u001b[38;5;241m2\u001b[39m]\n\u001b[0;32m     12\u001b[0m         \u001b[38;5;28;01mreturn\u001b[39;00m num[\u001b[38;5;28mlen\u001b[39m(num)\u001b[38;5;241m/\u001b[39m\u001b[38;5;241m2\u001b[39m]\u001b[38;5;241m+\u001b[39mnum[\u001b[38;5;241m-\u001b[39m\u001b[38;5;241m1\u001b[39m\u001b[38;5;241m+\u001b[39m\u001b[38;5;28mlen\u001b[39m(num)\u001b[38;5;241m/\u001b[39m\u001b[38;5;241m2\u001b[39m]\n\u001b[1;32m---> 14\u001b[0m \u001b[38;5;28mprint\u001b[39m(\u001b[43mfindMedianSortedArrays\u001b[49m\u001b[43m(\u001b[49m\u001b[43mlistone\u001b[49m\u001b[43m,\u001b[49m\u001b[43mlisttwo\u001b[49m\u001b[43m)\u001b[49m)\n",
      "Cell \u001b[1;32mIn [1], line 9\u001b[0m, in \u001b[0;36mfindMedianSortedArrays\u001b[1;34m(nums1, nums2)\u001b[0m\n\u001b[0;32m      8\u001b[0m \u001b[38;5;28;01mdef\u001b[39;00m \u001b[38;5;21mfindMedianSortedArrays\u001b[39m(nums1, nums2):\n\u001b[1;32m----> 9\u001b[0m         num\u001b[38;5;241m=\u001b[39m\u001b[43mnum1\u001b[49m\u001b[38;5;241m+\u001b[39mnum2\n\u001b[0;32m     10\u001b[0m         \u001b[38;5;28;01mif\u001b[39;00m \u001b[38;5;28mlen\u001b[39m(num)\u001b[38;5;241m%\u001b[39m\u001b[38;5;241m2\u001b[39m\u001b[38;5;241m==\u001b[39m\u001b[38;5;241m1\u001b[39m:\n\u001b[0;32m     11\u001b[0m             \u001b[38;5;28;01mreturn\u001b[39;00m num[(\u001b[38;5;28mlen\u001b[39m(num)\u001b[38;5;241m-\u001b[39m\u001b[38;5;241m1\u001b[39m)\u001b[38;5;241m/\u001b[39m\u001b[38;5;241m2\u001b[39m]\n",
      "\u001b[1;31mNameError\u001b[0m: name 'num1' is not defined"
     ]
    }
   ],
   "source": [
    "listone = [1, 2, 3]\n",
    "listtwo = [4, 5, 6]\n",
    "\n",
    "joinedlist = listone + listtwo\n",
    "print(joinedlist)\n",
    "\n",
    "\n",
    "def findMedianSortedArrays(nums1, nums2):\n",
    "        num=num1+num2\n",
    "        if len(num)%2==1:\n",
    "            return num[(len(num)-1)/2]\n",
    "        return num[len(num)/2]+num[-1+len(num)/2]\n",
    "        \n",
    "print(findMedianSortedArrays(listone,listtwo))"
   ]
  },
  {
   "cell_type": "markdown",
   "id": "c3821da4",
   "metadata": {},
   "source": [
    "### 6.Reverse an integer."
   ]
  },
  {
   "cell_type": "code",
   "execution_count": 7,
   "id": "ca91be8c",
   "metadata": {},
   "outputs": [
    {
     "name": "stdout",
     "output_type": "stream",
     "text": [
      "3410987432121\n"
     ]
    }
   ],
   "source": [
    "# first method\n",
    "num=1212347890143\n",
    "rev_num=0\n",
    "while num!=0:\n",
    "    rev_num=10*rev_num+num%10\n",
    "    num=int(num/10)\n",
    "print(rev_num)"
   ]
  },
  {
   "cell_type": "code",
   "execution_count": 6,
   "id": "417bc0c7",
   "metadata": {},
   "outputs": [
    {
     "name": "stdout",
     "output_type": "stream",
     "text": [
      "3410987432121\n"
     ]
    }
   ],
   "source": [
    "# second method\n",
    "num=1212347890143\n",
    "try:\n",
    "    print(int(str(num)[::-1]))\n",
    "except ValueError as verr:\n",
    "    pass\n",
    "except Exception as ex:\n",
    "    pass"
   ]
  },
  {
   "cell_type": "markdown",
   "id": "4e6a0384",
   "metadata": {},
   "source": [
    "### 7.Write a function named 'format_number' that takes a non-negative number as its only parameter. Your function should convert the number to a string and add commas as a thousand separators. For example, calling format_number(1000000) should return \"1,000,000\". "
   ]
  },
  {
   "cell_type": "code",
   "execution_count": 8,
   "id": "aa5e94a5",
   "metadata": {},
   "outputs": [
    {
     "data": {
      "text/plain": [
       "'100'"
      ]
     },
     "execution_count": 8,
     "metadata": {},
     "output_type": "execute_result"
    }
   ],
   "source": [
    "def format_number(number):\n",
    "    return str(number)\n",
    "format_number(100)"
   ]
  },
  {
   "cell_type": "code",
   "execution_count": 30,
   "id": "357e1b6b",
   "metadata": {},
   "outputs": [
    {
     "name": "stdout",
     "output_type": "stream",
     "text": [
      "853,012,034\n"
     ]
    }
   ],
   "source": [
    "n=853012034\n",
    "st=''\n",
    "c=0\n",
    "while n!=0:\n",
    "    if c==3:\n",
    "        c=0\n",
    "        st=str(n%10)+','+st\n",
    "    else:\n",
    "        st=str(n%10)+st\n",
    "    n=int(n/10)\n",
    "    c+=1\n",
    "print(st)"
   ]
  },
  {
   "cell_type": "code",
   "execution_count": 9,
   "id": "670b2ba1",
   "metadata": {},
   "outputs": [
    {
     "name": "stdout",
     "output_type": "stream",
     "text": [
      "[1, 4, 3, 6, 0, 1, 2, 3, 7, 8, 5] 8\n"
     ]
    }
   ],
   "source": [
    "l=[1,4,3,6,0,1,2,9,3,7,8,5]\n",
    "max(l)\n",
    "l.remove(max(l))\n",
    "w=max(l)\n",
    "print(l,w)"
   ]
  },
  {
   "cell_type": "markdown",
   "id": "6b69cde9",
   "metadata": {},
   "source": [
    "### 8. \n",
    " INPUT='Soroosh'\\\n",
    " OUTPUT={'s':2,'o':3,'r':1,'h':1}"
   ]
  },
  {
   "cell_type": "code",
   "execution_count": 1,
   "id": "4708dcd3",
   "metadata": {},
   "outputs": [
    {
     "name": "stdout",
     "output_type": "stream",
     "text": [
      "[1, 2, 1, 1, 1]\n"
     ]
    },
    {
     "data": {
      "text/plain": [
       "'o'"
      ]
     },
     "execution_count": 1,
     "metadata": {},
     "output_type": "execute_result"
    }
   ],
   "source": [
    "def map_string(st):\n",
    "    dc={}\n",
    "    for lt in st:\n",
    "        if lt.lower() not in dc:\n",
    "            dc[lt.lower()]=1\n",
    "        else:\n",
    "            dc[lt.lower()]+=1\n",
    "    return dc\n",
    "\n",
    "print(list(map_string('Torino').values()))\n",
    "\n",
    "\n",
    "max(map_string('Torino'), key=map_string('Torino').get)"
   ]
  },
  {
   "cell_type": "code",
   "execution_count": 2,
   "id": "f8c2497e",
   "metadata": {},
   "outputs": [
    {
     "name": "stdout",
     "output_type": "stream",
     "text": [
      "{'h', 'o'}\n"
     ]
    }
   ],
   "source": [
    "str1=set('Soroosh'.lower())\n",
    "str2=set('John'.lower())\n",
    "\n",
    "print(str1 & str2)"
   ]
  },
  {
   "cell_type": "markdown",
   "id": "5ef619b6",
   "metadata": {},
   "source": [
    "### 9. Read File"
   ]
  },
  {
   "cell_type": "code",
   "execution_count": 12,
   "id": "a67608ca",
   "metadata": {},
   "outputs": [
    {
     "name": "stdout",
     "output_type": "stream",
     "text": [
      "1 .  Hi\n",
      "\n",
      "2 .  How are you?\n",
      "\n",
      "3 .  I am Soroosh.\n",
      "\n",
      "4 .  Every thing goes well?\n"
     ]
    }
   ],
   "source": [
    "c=0\n",
    "with open('sample.txt','r') as f:\n",
    "    for line in f:\n",
    "        c+=1\n",
    "        print(c,\". \",line)"
   ]
  },
  {
   "cell_type": "code",
   "execution_count": 70,
   "id": "d3cfa310",
   "metadata": {},
   "outputs": [],
   "source": [
    "with open('sample_xml.xml','r') as f:\n",
    "    sample_string=f.read()\n",
    "        "
   ]
  },
  {
   "cell_type": "code",
   "execution_count": 79,
   "id": "3c105227",
   "metadata": {},
   "outputs": [
    {
     "data": {
      "text/plain": [
       "['<author>Gambardella, Matthew</author>']"
      ]
     },
     "execution_count": 79,
     "metadata": {},
     "output_type": "execute_result"
    }
   ],
   "source": [
    "sample='<author>Gambardella, Matthew</author>'\n",
    "\n",
    "re.findall('^[<].*[>]$',sample)"
   ]
  },
  {
   "cell_type": "code",
   "execution_count": 80,
   "id": "3b9daa09",
   "metadata": {},
   "outputs": [
    {
     "data": {
      "text/plain": [
       "['<author>Gambardella, Matthew</author>']"
      ]
     },
     "execution_count": 80,
     "metadata": {},
     "output_type": "execute_result"
    }
   ],
   "source": [
    "re.findall('^(<.*>)$',sample)"
   ]
  },
  {
   "cell_type": "markdown",
   "id": "efb719c4",
   "metadata": {},
   "source": [
    "### USING xml.etree.ElementTree"
   ]
  },
  {
   "cell_type": "code",
   "execution_count": 71,
   "id": "38f093d6",
   "metadata": {},
   "outputs": [],
   "source": [
    "import xml.etree.ElementTree as ET\n",
    "tree = ET.ElementTree(ET.fromstring(sample_string))"
   ]
  },
  {
   "cell_type": "code",
   "execution_count": 74,
   "id": "826ed1ef",
   "metadata": {},
   "outputs": [
    {
     "name": "stdout",
     "output_type": "stream",
     "text": [
      "['author', 'title', 'publish_date', 'catalog', 'price', 'description', 'genre', 'book']\n"
     ]
    }
   ],
   "source": [
    "elemList = []\n",
    "\n",
    "for elem in tree.iter():\n",
    "    elemList.append(elem.tag)\n",
    "\n",
    "print(list(set(elemList)))"
   ]
  },
  {
   "cell_type": "code",
   "execution_count": null,
   "id": "c185ed75",
   "metadata": {},
   "outputs": [],
   "source": [
    "## ETVar.child, ETVar.getroot(), ETVar.tag, ETVar.attrib"
   ]
  },
  {
   "cell_type": "markdown",
   "id": "28fcf5e6",
   "metadata": {},
   "source": [
    "### Question: Find the Longest Substring Without Repeating Characters "
   ]
  },
  {
   "cell_type": "code",
   "execution_count": 38,
   "id": "e2b0014e",
   "metadata": {},
   "outputs": [
    {
     "data": {
      "text/plain": [
       "(['a', 'b', 'c', 'd', 'e', 'f'], {'a', 'b', 'c', 'd', 'e', 'f'}, 6)"
      ]
     },
     "execution_count": 38,
     "metadata": {},
     "output_type": "execute_result"
    }
   ],
   "source": [
    "word='abcdef'\n",
    "\n",
    "def longest_substring_without_repeating(word):\n",
    "    for i in range(len(word),0,-1):\n",
    "        for n in range(0,len(word)-i+1):\n",
    "            if len(list(word[n:i+n]))==len(set(word[n:i+n])):\n",
    "                return list(word[n:i+n]),set(word[n:i+n]),i\n",
    "    return 1\n",
    "\n",
    "longest_substring_without_repeating(word)"
   ]
  },
  {
   "cell_type": "code",
   "execution_count": 2,
   "id": "144343b6",
   "metadata": {},
   "outputs": [
    {
     "name": "stdout",
     "output_type": "stream",
     "text": [
      "['1', '3', '4', '7', '13']\n",
      "['1', '2', '4', '13', '15']\n"
     ]
    }
   ],
   "source": [
    "x=[\"1, 3, 4, 7, 13\", \"1, 2, 4, 13, 15\"]\n",
    "\n",
    "for s in x:\n",
    "    print(s.split(', '))"
   ]
  },
  {
   "cell_type": "code",
   "execution_count": 12,
   "id": "f97752b9",
   "metadata": {},
   "outputs": [
    {
     "data": {
      "text/plain": [
       "4"
      ]
     },
     "execution_count": 12,
     "metadata": {},
     "output_type": "execute_result"
    }
   ],
   "source": [
    "s='siasadsad'\n",
    "list(s)\n",
    "len(set(s))"
   ]
  },
  {
   "cell_type": "code",
   "execution_count": null,
   "id": "ce5b1222",
   "metadata": {},
   "outputs": [],
   "source": []
  }
 ],
 "metadata": {
  "kernelspec": {
   "display_name": "Python 3 (ipykernel)",
   "language": "python",
   "name": "python3"
  },
  "language_info": {
   "codemirror_mode": {
    "name": "ipython",
    "version": 3
   },
   "file_extension": ".py",
   "mimetype": "text/x-python",
   "name": "python",
   "nbconvert_exporter": "python",
   "pygments_lexer": "ipython3",
   "version": "3.10.7"
  }
 },
 "nbformat": 4,
 "nbformat_minor": 5
}
